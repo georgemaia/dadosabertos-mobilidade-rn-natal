{
 "cells": [
  {
   "cell_type": "markdown",
   "metadata": {},
   "source": [
    "# Datasets Portal da Transparência da Mobilidade Urbana de Natal/RN\n",
    "\n",
    "## Dataset Bilhetagem Eletrônica Analítico 2019\n",
    "\n",
    "http://dados.natal.br/dataset/bilhetagem-eletronica\n",
    "\n",
    "Dados BE 2019 - Analitico\n",
    "http://dados.natal.br/dataset/4fad551d-4d3b-4597-b8d3-7e887e22332e/resource/0d4a0f0f-b8a5-46a0-acfe-bb9138c8eb9e/download/dados-be-2019-analitico.csv"
   ]
  },
  {
   "cell_type": "code",
   "execution_count": 1,
   "metadata": {},
   "outputs": [],
   "source": [
    "import pandas as pd"
   ]
  },
  {
   "cell_type": "markdown",
   "metadata": {},
   "source": [
    "## Download do arquivo csv\n",
    "Vamos baixar o arquivo de 2018 com o comando wget\n",
    "comando abaixo esta comentando em função do Windows 10 não possuir o comando."
   ]
  },
  {
   "cell_type": "code",
   "execution_count": 5,
   "metadata": {},
   "outputs": [],
   "source": [
    "#wget -c http://dados.natal.br/dataset/4fad551d-4d3b-4597-b8d3-7e887e22332e/resource/0d4a0f0f-b8a5-46a0-acfe-bb9138c8eb9e/download/dados-be-2019-analitico.csv"
   ]
  },
  {
   "cell_type": "markdown",
   "metadata": {},
   "source": [
    "Verificar o arquivo baixado com o comando\n",
    "*ls -lah dados-be**"
   ]
  },
  {
   "cell_type": "code",
   "execution_count": null,
   "metadata": {},
   "outputs": [],
   "source": [
    "#ls -lah dados-be*"
   ]
  },
  {
   "cell_type": "markdown",
   "metadata": {},
   "source": [
    "## Carregar o arquivo CSV"
   ]
  },
  {
   "cell_type": "code",
   "execution_count": 2,
   "metadata": {},
   "outputs": [],
   "source": [
    "df = pd.read_csv(\"data\\dados-be-2019-analitico.csv\", encoding='iso-8859-1', sep=';', thousands=r'.')"
   ]
  },
  {
   "cell_type": "markdown",
   "metadata": {},
   "source": [
    "Checar se o arquivo foi carregado exibindo os primeiros registros"
   ]
  },
  {
   "cell_type": "code",
   "execution_count": 3,
   "metadata": {},
   "outputs": [
    {
     "data": {
      "text/html": [
       "<div>\n",
       "<style scoped>\n",
       "    .dataframe tbody tr th:only-of-type {\n",
       "        vertical-align: middle;\n",
       "    }\n",
       "\n",
       "    .dataframe tbody tr th {\n",
       "        vertical-align: top;\n",
       "    }\n",
       "\n",
       "    .dataframe thead th {\n",
       "        text-align: right;\n",
       "    }\n",
       "</style>\n",
       "<table border=\"1\" class=\"dataframe\">\n",
       "  <thead>\n",
       "    <tr style=\"text-align: right;\">\n",
       "      <th></th>\n",
       "      <th>Mês</th>\n",
       "      <th>Empresa</th>\n",
       "      <th>Linha</th>\n",
       "      <th>Estudante_Cartao</th>\n",
       "      <th>Estudante_BT</th>\n",
       "      <th>Vale_Transporte</th>\n",
       "      <th>Integracao_Plena</th>\n",
       "      <th>Integracao_Complementar</th>\n",
       "      <th>Gratuito_Cartao</th>\n",
       "      <th>Gratuito_BT</th>\n",
       "      <th>Inteira_Cartao</th>\n",
       "      <th>Inteira_Especie</th>\n",
       "      <th>Tarifa_Social</th>\n",
       "      <th>Qtd_Viagens</th>\n",
       "    </tr>\n",
       "  </thead>\n",
       "  <tbody>\n",
       "    <tr>\n",
       "      <th>0</th>\n",
       "      <td>1</td>\n",
       "      <td>CONCEIÇÃO</td>\n",
       "      <td>21</td>\n",
       "      <td>14433</td>\n",
       "      <td>4640</td>\n",
       "      <td>36604</td>\n",
       "      <td>8347</td>\n",
       "      <td>0</td>\n",
       "      <td>16427</td>\n",
       "      <td>8330</td>\n",
       "      <td>6260</td>\n",
       "      <td>41213</td>\n",
       "      <td>3119</td>\n",
       "      <td>3401</td>\n",
       "    </tr>\n",
       "    <tr>\n",
       "      <th>1</th>\n",
       "      <td>1</td>\n",
       "      <td>CONCEIÇÃO</td>\n",
       "      <td>22</td>\n",
       "      <td>2099</td>\n",
       "      <td>842</td>\n",
       "      <td>5175</td>\n",
       "      <td>1006</td>\n",
       "      <td>0</td>\n",
       "      <td>3730</td>\n",
       "      <td>1788</td>\n",
       "      <td>1032</td>\n",
       "      <td>7345</td>\n",
       "      <td>0</td>\n",
       "      <td>643</td>\n",
       "    </tr>\n",
       "    <tr>\n",
       "      <th>2</th>\n",
       "      <td>1</td>\n",
       "      <td>CONCEIÇÃO</td>\n",
       "      <td>30</td>\n",
       "      <td>10095</td>\n",
       "      <td>2912</td>\n",
       "      <td>21823</td>\n",
       "      <td>5746</td>\n",
       "      <td>0</td>\n",
       "      <td>6975</td>\n",
       "      <td>3403</td>\n",
       "      <td>5200</td>\n",
       "      <td>21659</td>\n",
       "      <td>858</td>\n",
       "      <td>2356</td>\n",
       "    </tr>\n",
       "    <tr>\n",
       "      <th>3</th>\n",
       "      <td>1</td>\n",
       "      <td>CONCEIÇÃO</td>\n",
       "      <td>31</td>\n",
       "      <td>10282</td>\n",
       "      <td>3142</td>\n",
       "      <td>22424</td>\n",
       "      <td>7351</td>\n",
       "      <td>0</td>\n",
       "      <td>6589</td>\n",
       "      <td>3202</td>\n",
       "      <td>5132</td>\n",
       "      <td>23757</td>\n",
       "      <td>64</td>\n",
       "      <td>2264</td>\n",
       "    </tr>\n",
       "    <tr>\n",
       "      <th>4</th>\n",
       "      <td>1</td>\n",
       "      <td>CONCEIÇÃO</td>\n",
       "      <td>41</td>\n",
       "      <td>7218</td>\n",
       "      <td>1673</td>\n",
       "      <td>18788</td>\n",
       "      <td>7473</td>\n",
       "      <td>0</td>\n",
       "      <td>5229</td>\n",
       "      <td>3065</td>\n",
       "      <td>4256</td>\n",
       "      <td>13547</td>\n",
       "      <td>0</td>\n",
       "      <td>2164</td>\n",
       "    </tr>\n",
       "  </tbody>\n",
       "</table>\n",
       "</div>"
      ],
      "text/plain": [
       "   Mês    Empresa  Linha  Estudante_Cartao  Estudante_BT  Vale_Transporte  \\\n",
       "0    1  CONCEIÇÃO     21             14433          4640            36604   \n",
       "1    1  CONCEIÇÃO     22              2099           842             5175   \n",
       "2    1  CONCEIÇÃO     30             10095          2912            21823   \n",
       "3    1  CONCEIÇÃO     31             10282          3142            22424   \n",
       "4    1  CONCEIÇÃO     41              7218          1673            18788   \n",
       "\n",
       "   Integracao_Plena  Integracao_Complementar  Gratuito_Cartao  Gratuito_BT  \\\n",
       "0              8347                        0            16427         8330   \n",
       "1              1006                        0             3730         1788   \n",
       "2              5746                        0             6975         3403   \n",
       "3              7351                        0             6589         3202   \n",
       "4              7473                        0             5229         3065   \n",
       "\n",
       "   Inteira_Cartao  Inteira_Especie  Tarifa_Social  Qtd_Viagens  \n",
       "0            6260            41213           3119         3401  \n",
       "1            1032             7345              0          643  \n",
       "2            5200            21659            858         2356  \n",
       "3            5132            23757             64         2264  \n",
       "4            4256            13547              0         2164  "
      ]
     },
     "execution_count": 3,
     "metadata": {},
     "output_type": "execute_result"
    }
   ],
   "source": [
    "df.head()"
   ]
  },
  {
   "cell_type": "markdown",
   "metadata": {},
   "source": [
    "Exibir 10 registros aleatórios"
   ]
  },
  {
   "cell_type": "code",
   "execution_count": 4,
   "metadata": {},
   "outputs": [
    {
     "data": {
      "text/html": [
       "<div>\n",
       "<style scoped>\n",
       "    .dataframe tbody tr th:only-of-type {\n",
       "        vertical-align: middle;\n",
       "    }\n",
       "\n",
       "    .dataframe tbody tr th {\n",
       "        vertical-align: top;\n",
       "    }\n",
       "\n",
       "    .dataframe thead th {\n",
       "        text-align: right;\n",
       "    }\n",
       "</style>\n",
       "<table border=\"1\" class=\"dataframe\">\n",
       "  <thead>\n",
       "    <tr style=\"text-align: right;\">\n",
       "      <th></th>\n",
       "      <th>Mês</th>\n",
       "      <th>Empresa</th>\n",
       "      <th>Linha</th>\n",
       "      <th>Estudante_Cartao</th>\n",
       "      <th>Estudante_BT</th>\n",
       "      <th>Vale_Transporte</th>\n",
       "      <th>Integracao_Plena</th>\n",
       "      <th>Integracao_Complementar</th>\n",
       "      <th>Gratuito_Cartao</th>\n",
       "      <th>Gratuito_BT</th>\n",
       "      <th>Inteira_Cartao</th>\n",
       "      <th>Inteira_Especie</th>\n",
       "      <th>Tarifa_Social</th>\n",
       "      <th>Qtd_Viagens</th>\n",
       "    </tr>\n",
       "  </thead>\n",
       "  <tbody>\n",
       "    <tr>\n",
       "      <th>21</th>\n",
       "      <td>1</td>\n",
       "      <td>DUNAS - URB</td>\n",
       "      <td>57</td>\n",
       "      <td>1003</td>\n",
       "      <td>251</td>\n",
       "      <td>1654</td>\n",
       "      <td>700</td>\n",
       "      <td>0</td>\n",
       "      <td>894</td>\n",
       "      <td>384</td>\n",
       "      <td>467</td>\n",
       "      <td>1648</td>\n",
       "      <td>0</td>\n",
       "      <td>347</td>\n",
       "    </tr>\n",
       "    <tr>\n",
       "      <th>48</th>\n",
       "      <td>1</td>\n",
       "      <td>GUANABARA - URB</td>\n",
       "      <td>593</td>\n",
       "      <td>2772</td>\n",
       "      <td>466</td>\n",
       "      <td>2524</td>\n",
       "      <td>683</td>\n",
       "      <td>0</td>\n",
       "      <td>988</td>\n",
       "      <td>424</td>\n",
       "      <td>593</td>\n",
       "      <td>2989</td>\n",
       "      <td>170</td>\n",
       "      <td>968</td>\n",
       "    </tr>\n",
       "    <tr>\n",
       "      <th>100</th>\n",
       "      <td>2</td>\n",
       "      <td>CONCEIÇÃO</td>\n",
       "      <td>63</td>\n",
       "      <td>40701</td>\n",
       "      <td>9842</td>\n",
       "      <td>43915</td>\n",
       "      <td>20553</td>\n",
       "      <td>0</td>\n",
       "      <td>15472</td>\n",
       "      <td>6381</td>\n",
       "      <td>7950</td>\n",
       "      <td>40626</td>\n",
       "      <td>0</td>\n",
       "      <td>3636</td>\n",
       "    </tr>\n",
       "    <tr>\n",
       "      <th>74</th>\n",
       "      <td>1</td>\n",
       "      <td>SANTA MARIA - URB</td>\n",
       "      <td>34</td>\n",
       "      <td>4761</td>\n",
       "      <td>1418</td>\n",
       "      <td>8867</td>\n",
       "      <td>2383</td>\n",
       "      <td>0</td>\n",
       "      <td>7476</td>\n",
       "      <td>4569</td>\n",
       "      <td>2233</td>\n",
       "      <td>12728</td>\n",
       "      <td>0</td>\n",
       "      <td>1530</td>\n",
       "    </tr>\n",
       "    <tr>\n",
       "      <th>7</th>\n",
       "      <td>1</td>\n",
       "      <td>CONCEIÇÃO</td>\n",
       "      <td>71</td>\n",
       "      <td>10033</td>\n",
       "      <td>3718</td>\n",
       "      <td>24365</td>\n",
       "      <td>4570</td>\n",
       "      <td>0</td>\n",
       "      <td>14472</td>\n",
       "      <td>6197</td>\n",
       "      <td>4788</td>\n",
       "      <td>31456</td>\n",
       "      <td>3354</td>\n",
       "      <td>2925</td>\n",
       "    </tr>\n",
       "    <tr>\n",
       "      <th>62</th>\n",
       "      <td>1</td>\n",
       "      <td>REUNIDAS</td>\n",
       "      <td>26</td>\n",
       "      <td>16291</td>\n",
       "      <td>5699</td>\n",
       "      <td>50106</td>\n",
       "      <td>12882</td>\n",
       "      <td>250</td>\n",
       "      <td>7235</td>\n",
       "      <td>4809</td>\n",
       "      <td>8498</td>\n",
       "      <td>42178</td>\n",
       "      <td>4320</td>\n",
       "      <td>3209</td>\n",
       "    </tr>\n",
       "    <tr>\n",
       "      <th>40</th>\n",
       "      <td>1</td>\n",
       "      <td>GUANABARA - URB</td>\n",
       "      <td>76</td>\n",
       "      <td>2825</td>\n",
       "      <td>861</td>\n",
       "      <td>7002</td>\n",
       "      <td>1448</td>\n",
       "      <td>42</td>\n",
       "      <td>3279</td>\n",
       "      <td>1016</td>\n",
       "      <td>1404</td>\n",
       "      <td>8065</td>\n",
       "      <td>337</td>\n",
       "      <td>605</td>\n",
       "    </tr>\n",
       "    <tr>\n",
       "      <th>63</th>\n",
       "      <td>1</td>\n",
       "      <td>REUNIDAS</td>\n",
       "      <td>27</td>\n",
       "      <td>10410</td>\n",
       "      <td>3112</td>\n",
       "      <td>23687</td>\n",
       "      <td>3513</td>\n",
       "      <td>111</td>\n",
       "      <td>9888</td>\n",
       "      <td>5329</td>\n",
       "      <td>5152</td>\n",
       "      <td>30294</td>\n",
       "      <td>3061</td>\n",
       "      <td>2948</td>\n",
       "    </tr>\n",
       "    <tr>\n",
       "      <th>112</th>\n",
       "      <td>2</td>\n",
       "      <td>CONCEIÇÃO</td>\n",
       "      <td>7601</td>\n",
       "      <td>102</td>\n",
       "      <td>37</td>\n",
       "      <td>243</td>\n",
       "      <td>54</td>\n",
       "      <td>0</td>\n",
       "      <td>149</td>\n",
       "      <td>68</td>\n",
       "      <td>43</td>\n",
       "      <td>367</td>\n",
       "      <td>0</td>\n",
       "      <td>41</td>\n",
       "    </tr>\n",
       "    <tr>\n",
       "      <th>166</th>\n",
       "      <td>2</td>\n",
       "      <td>REUNIDAS</td>\n",
       "      <td>7847</td>\n",
       "      <td>19359</td>\n",
       "      <td>5983</td>\n",
       "      <td>29761</td>\n",
       "      <td>5649</td>\n",
       "      <td>57</td>\n",
       "      <td>9668</td>\n",
       "      <td>5201</td>\n",
       "      <td>8080</td>\n",
       "      <td>33094</td>\n",
       "      <td>0</td>\n",
       "      <td>2277</td>\n",
       "    </tr>\n",
       "  </tbody>\n",
       "</table>\n",
       "</div>"
      ],
      "text/plain": [
       "     Mês            Empresa  Linha  Estudante_Cartao  Estudante_BT  \\\n",
       "21     1        DUNAS - URB     57              1003           251   \n",
       "48     1    GUANABARA - URB    593              2772           466   \n",
       "100    2          CONCEIÇÃO     63             40701          9842   \n",
       "74     1  SANTA MARIA - URB     34              4761          1418   \n",
       "7      1          CONCEIÇÃO     71             10033          3718   \n",
       "62     1           REUNIDAS     26             16291          5699   \n",
       "40     1    GUANABARA - URB     76              2825           861   \n",
       "63     1           REUNIDAS     27             10410          3112   \n",
       "112    2          CONCEIÇÃO   7601               102            37   \n",
       "166    2           REUNIDAS   7847             19359          5983   \n",
       "\n",
       "     Vale_Transporte  Integracao_Plena  Integracao_Complementar  \\\n",
       "21              1654               700                        0   \n",
       "48              2524               683                        0   \n",
       "100            43915             20553                        0   \n",
       "74              8867              2383                        0   \n",
       "7              24365              4570                        0   \n",
       "62             50106             12882                      250   \n",
       "40              7002              1448                       42   \n",
       "63             23687              3513                      111   \n",
       "112              243                54                        0   \n",
       "166            29761              5649                       57   \n",
       "\n",
       "     Gratuito_Cartao  Gratuito_BT  Inteira_Cartao  Inteira_Especie  \\\n",
       "21               894          384             467             1648   \n",
       "48               988          424             593             2989   \n",
       "100            15472         6381            7950            40626   \n",
       "74              7476         4569            2233            12728   \n",
       "7              14472         6197            4788            31456   \n",
       "62              7235         4809            8498            42178   \n",
       "40              3279         1016            1404             8065   \n",
       "63              9888         5329            5152            30294   \n",
       "112              149           68              43              367   \n",
       "166             9668         5201            8080            33094   \n",
       "\n",
       "     Tarifa_Social  Qtd_Viagens  \n",
       "21               0          347  \n",
       "48             170          968  \n",
       "100              0         3636  \n",
       "74               0         1530  \n",
       "7             3354         2925  \n",
       "62            4320         3209  \n",
       "40             337          605  \n",
       "63            3061         2948  \n",
       "112              0           41  \n",
       "166              0         2277  "
      ]
     },
     "execution_count": 4,
     "metadata": {},
     "output_type": "execute_result"
    }
   ],
   "source": [
    "df.sample(10)"
   ]
  },
  {
   "cell_type": "markdown",
   "metadata": {},
   "source": [
    "## Visualizar o descritivo da estrtura de dados com o número de linhas e colunas"
   ]
  },
  {
   "cell_type": "code",
   "execution_count": 5,
   "metadata": {},
   "outputs": [
    {
     "data": {
      "text/plain": [
       "(189, 14)"
      ]
     },
     "execution_count": 5,
     "metadata": {},
     "output_type": "execute_result"
    }
   ],
   "source": [
    "df.shape"
   ]
  },
  {
   "cell_type": "markdown",
   "metadata": {},
   "source": [
    "## Visualizar informações básicas do dataset como colunas, tamanho, tipo de valores, etc.."
   ]
  },
  {
   "cell_type": "code",
   "execution_count": 6,
   "metadata": {},
   "outputs": [
    {
     "name": "stdout",
     "output_type": "stream",
     "text": [
      "<class 'pandas.core.frame.DataFrame'>\n",
      "RangeIndex: 189 entries, 0 to 188\n",
      "Data columns (total 14 columns):\n",
      "Mês                        189 non-null int64\n",
      "Empresa                    189 non-null object\n",
      "Linha                      189 non-null int64\n",
      "Estudante_Cartao           189 non-null int64\n",
      "Estudante_BT               189 non-null int64\n",
      "Vale_Transporte            189 non-null int64\n",
      "Integracao_Plena           189 non-null int64\n",
      "Integracao_Complementar    189 non-null int64\n",
      "Gratuito_Cartao            189 non-null int64\n",
      "Gratuito_BT                189 non-null int64\n",
      "Inteira_Cartao             189 non-null int64\n",
      "Inteira_Especie            189 non-null int64\n",
      "Tarifa_Social              189 non-null int64\n",
      "Qtd_Viagens                189 non-null int64\n",
      "dtypes: int64(13), object(1)\n",
      "memory usage: 20.8+ KB\n"
     ]
    }
   ],
   "source": [
    "df.info()"
   ]
  },
  {
   "cell_type": "markdown",
   "metadata": {},
   "source": [
    "## Exibir informações estatísticas das colunas numéricas"
   ]
  },
  {
   "cell_type": "code",
   "execution_count": 7,
   "metadata": {},
   "outputs": [
    {
     "data": {
      "text/html": [
       "<div>\n",
       "<style scoped>\n",
       "    .dataframe tbody tr th:only-of-type {\n",
       "        vertical-align: middle;\n",
       "    }\n",
       "\n",
       "    .dataframe tbody tr th {\n",
       "        vertical-align: top;\n",
       "    }\n",
       "\n",
       "    .dataframe thead th {\n",
       "        text-align: right;\n",
       "    }\n",
       "</style>\n",
       "<table border=\"1\" class=\"dataframe\">\n",
       "  <thead>\n",
       "    <tr style=\"text-align: right;\">\n",
       "      <th></th>\n",
       "      <th>Mês</th>\n",
       "      <th>Linha</th>\n",
       "      <th>Estudante_Cartao</th>\n",
       "      <th>Estudante_BT</th>\n",
       "      <th>Vale_Transporte</th>\n",
       "      <th>Integracao_Plena</th>\n",
       "      <th>Integracao_Complementar</th>\n",
       "      <th>Gratuito_Cartao</th>\n",
       "      <th>Gratuito_BT</th>\n",
       "      <th>Inteira_Cartao</th>\n",
       "      <th>Inteira_Especie</th>\n",
       "      <th>Tarifa_Social</th>\n",
       "      <th>Qtd_Viagens</th>\n",
       "    </tr>\n",
       "  </thead>\n",
       "  <tbody>\n",
       "    <tr>\n",
       "      <th>count</th>\n",
       "      <td>189.000000</td>\n",
       "      <td>189.000000</td>\n",
       "      <td>189.000000</td>\n",
       "      <td>189.000000</td>\n",
       "      <td>189.000000</td>\n",
       "      <td>189.000000</td>\n",
       "      <td>189.000000</td>\n",
       "      <td>189.000000</td>\n",
       "      <td>189.000000</td>\n",
       "      <td>189.000000</td>\n",
       "      <td>189.000000</td>\n",
       "      <td>189.000000</td>\n",
       "      <td>189.000000</td>\n",
       "    </tr>\n",
       "    <tr>\n",
       "      <th>mean</th>\n",
       "      <td>1.502646</td>\n",
       "      <td>1095.338624</td>\n",
       "      <td>10124.253968</td>\n",
       "      <td>3087.497354</td>\n",
       "      <td>20140.910053</td>\n",
       "      <td>5341.021164</td>\n",
       "      <td>67.634921</td>\n",
       "      <td>6653.238095</td>\n",
       "      <td>3498.375661</td>\n",
       "      <td>4273.582011</td>\n",
       "      <td>20416.206349</td>\n",
       "      <td>712.534392</td>\n",
       "      <td>1827.703704</td>\n",
       "    </tr>\n",
       "    <tr>\n",
       "      <th>std</th>\n",
       "      <td>0.501321</td>\n",
       "      <td>2229.940501</td>\n",
       "      <td>9284.993264</td>\n",
       "      <td>2935.074385</td>\n",
       "      <td>18595.009652</td>\n",
       "      <td>5456.010165</td>\n",
       "      <td>149.063420</td>\n",
       "      <td>5867.607666</td>\n",
       "      <td>3098.381922</td>\n",
       "      <td>3624.894456</td>\n",
       "      <td>17619.509801</td>\n",
       "      <td>1377.640650</td>\n",
       "      <td>1235.652777</td>\n",
       "    </tr>\n",
       "    <tr>\n",
       "      <th>min</th>\n",
       "      <td>1.000000</td>\n",
       "      <td>2.000000</td>\n",
       "      <td>0.000000</td>\n",
       "      <td>0.000000</td>\n",
       "      <td>0.000000</td>\n",
       "      <td>0.000000</td>\n",
       "      <td>0.000000</td>\n",
       "      <td>0.000000</td>\n",
       "      <td>0.000000</td>\n",
       "      <td>0.000000</td>\n",
       "      <td>0.000000</td>\n",
       "      <td>0.000000</td>\n",
       "      <td>1.000000</td>\n",
       "    </tr>\n",
       "    <tr>\n",
       "      <th>25%</th>\n",
       "      <td>1.000000</td>\n",
       "      <td>39.000000</td>\n",
       "      <td>3105.000000</td>\n",
       "      <td>861.000000</td>\n",
       "      <td>5533.000000</td>\n",
       "      <td>1228.000000</td>\n",
       "      <td>0.000000</td>\n",
       "      <td>2192.000000</td>\n",
       "      <td>985.000000</td>\n",
       "      <td>1278.000000</td>\n",
       "      <td>7031.000000</td>\n",
       "      <td>0.000000</td>\n",
       "      <td>737.000000</td>\n",
       "    </tr>\n",
       "    <tr>\n",
       "      <th>50%</th>\n",
       "      <td>2.000000</td>\n",
       "      <td>73.000000</td>\n",
       "      <td>7246.000000</td>\n",
       "      <td>2226.000000</td>\n",
       "      <td>15226.000000</td>\n",
       "      <td>3512.000000</td>\n",
       "      <td>0.000000</td>\n",
       "      <td>5253.000000</td>\n",
       "      <td>2800.000000</td>\n",
       "      <td>3437.000000</td>\n",
       "      <td>16665.000000</td>\n",
       "      <td>0.000000</td>\n",
       "      <td>1675.000000</td>\n",
       "    </tr>\n",
       "    <tr>\n",
       "      <th>75%</th>\n",
       "      <td>2.000000</td>\n",
       "      <td>599.000000</td>\n",
       "      <td>14718.000000</td>\n",
       "      <td>4518.000000</td>\n",
       "      <td>30168.000000</td>\n",
       "      <td>8241.000000</td>\n",
       "      <td>54.000000</td>\n",
       "      <td>9483.000000</td>\n",
       "      <td>5201.000000</td>\n",
       "      <td>6334.000000</td>\n",
       "      <td>29753.000000</td>\n",
       "      <td>776.000000</td>\n",
       "      <td>2796.000000</td>\n",
       "    </tr>\n",
       "    <tr>\n",
       "      <th>max</th>\n",
       "      <td>2.000000</td>\n",
       "      <td>9018.000000</td>\n",
       "      <td>48043.000000</td>\n",
       "      <td>17162.000000</td>\n",
       "      <td>109827.000000</td>\n",
       "      <td>29590.000000</td>\n",
       "      <td>963.000000</td>\n",
       "      <td>31929.000000</td>\n",
       "      <td>16846.000000</td>\n",
       "      <td>17130.000000</td>\n",
       "      <td>88472.000000</td>\n",
       "      <td>8935.000000</td>\n",
       "      <td>5315.000000</td>\n",
       "    </tr>\n",
       "  </tbody>\n",
       "</table>\n",
       "</div>"
      ],
      "text/plain": [
       "              Mês        Linha  Estudante_Cartao  Estudante_BT  \\\n",
       "count  189.000000   189.000000        189.000000    189.000000   \n",
       "mean     1.502646  1095.338624      10124.253968   3087.497354   \n",
       "std      0.501321  2229.940501       9284.993264   2935.074385   \n",
       "min      1.000000     2.000000          0.000000      0.000000   \n",
       "25%      1.000000    39.000000       3105.000000    861.000000   \n",
       "50%      2.000000    73.000000       7246.000000   2226.000000   \n",
       "75%      2.000000   599.000000      14718.000000   4518.000000   \n",
       "max      2.000000  9018.000000      48043.000000  17162.000000   \n",
       "\n",
       "       Vale_Transporte  Integracao_Plena  Integracao_Complementar  \\\n",
       "count       189.000000        189.000000               189.000000   \n",
       "mean      20140.910053       5341.021164                67.634921   \n",
       "std       18595.009652       5456.010165               149.063420   \n",
       "min           0.000000          0.000000                 0.000000   \n",
       "25%        5533.000000       1228.000000                 0.000000   \n",
       "50%       15226.000000       3512.000000                 0.000000   \n",
       "75%       30168.000000       8241.000000                54.000000   \n",
       "max      109827.000000      29590.000000               963.000000   \n",
       "\n",
       "       Gratuito_Cartao   Gratuito_BT  Inteira_Cartao  Inteira_Especie  \\\n",
       "count       189.000000    189.000000      189.000000       189.000000   \n",
       "mean       6653.238095   3498.375661     4273.582011     20416.206349   \n",
       "std        5867.607666   3098.381922     3624.894456     17619.509801   \n",
       "min           0.000000      0.000000        0.000000         0.000000   \n",
       "25%        2192.000000    985.000000     1278.000000      7031.000000   \n",
       "50%        5253.000000   2800.000000     3437.000000     16665.000000   \n",
       "75%        9483.000000   5201.000000     6334.000000     29753.000000   \n",
       "max       31929.000000  16846.000000    17130.000000     88472.000000   \n",
       "\n",
       "       Tarifa_Social  Qtd_Viagens  \n",
       "count     189.000000   189.000000  \n",
       "mean      712.534392  1827.703704  \n",
       "std      1377.640650  1235.652777  \n",
       "min         0.000000     1.000000  \n",
       "25%         0.000000   737.000000  \n",
       "50%         0.000000  1675.000000  \n",
       "75%       776.000000  2796.000000  \n",
       "max      8935.000000  5315.000000  "
      ]
     },
     "execution_count": 7,
     "metadata": {},
     "output_type": "execute_result"
    }
   ],
   "source": [
    "df.describe()"
   ]
  },
  {
   "cell_type": "markdown",
   "metadata": {},
   "source": [
    "## Exibir a quantidade de empresas"
   ]
  },
  {
   "cell_type": "code",
   "execution_count": 8,
   "metadata": {},
   "outputs": [
    {
     "data": {
      "text/plain": [
       "6"
      ]
     },
     "execution_count": 8,
     "metadata": {},
     "output_type": "execute_result"
    }
   ],
   "source": [
    "empresas = df['Empresa'].unique()\n",
    "len(empresas)"
   ]
  },
  {
   "cell_type": "code",
   "execution_count": null,
   "metadata": {},
   "outputs": [],
   "source": []
  },
  {
   "cell_type": "markdown",
   "metadata": {},
   "source": [
    "## Exibir a quantidade de linhas de ônibus"
   ]
  },
  {
   "cell_type": "code",
   "execution_count": 9,
   "metadata": {},
   "outputs": [
    {
     "data": {
      "text/plain": [
       "84"
      ]
     },
     "execution_count": 9,
     "metadata": {},
     "output_type": "execute_result"
    }
   ],
   "source": [
    "linhas = df['Linha'].unique()\n",
    "len(linhas)"
   ]
  },
  {
   "cell_type": "markdown",
   "metadata": {},
   "source": [
    "## Quantidade de viagens por mês"
   ]
  },
  {
   "cell_type": "markdown",
   "metadata": {},
   "source": [
    "## Quantidade de passageiros por mês"
   ]
  },
  {
   "cell_type": "markdown",
   "metadata": {},
   "source": [
    "## Quantidade de Tipos de passagens por mês"
   ]
  },
  {
   "cell_type": "markdown",
   "metadata": {},
   "source": [
    "## Quantidade de passagens por empresa"
   ]
  },
  {
   "cell_type": "markdown",
   "metadata": {},
   "source": [
    "## Quantidade de viagens por linha"
   ]
  },
  {
   "cell_type": "markdown",
   "metadata": {},
   "source": [
    "## Quantidade de passagens por mês"
   ]
  },
  {
   "cell_type": "markdown",
   "metadata": {},
   "source": [
    "# Gráficos"
   ]
  },
  {
   "cell_type": "code",
   "execution_count": 10,
   "metadata": {},
   "outputs": [],
   "source": [
    "import numpy as np\n",
    "import matplotlib.pyplot as plt"
   ]
  },
  {
   "cell_type": "markdown",
   "metadata": {},
   "source": [
    "## Quantidade de Viagens por Empresa anual"
   ]
  },
  {
   "cell_type": "code",
   "execution_count": 11,
   "metadata": {},
   "outputs": [
    {
     "data": {
      "image/png": "[encoded data removed]",
      "text/plain": [
       "<Figure size 432x288 with 1 Axes>"
      ]
     },
     "metadata": {
      "needs_background": "light"
     },
     "output_type": "display_data"
    }
   ],
   "source": [
    "new_df = df.groupby(['Empresa']).sum()\n",
    "new_df['Qtd_Viagens'].sort_values(ascending=False).plot.bar()\n",
    "plt.show()"
   ]
  },
  {
   "cell_type": "markdown",
   "metadata": {},
   "source": [
    "## Quantidade de Viagens anual por Linha"
   ]
  },
  {
   "cell_type": "code",
   "execution_count": 12,
   "metadata": {},
   "outputs": [
    {
     "data": {
      "image/png": "[encoded data removed]",
      "text/plain": [
       "<Figure size 432x288 with 1 Axes>"
      ]
     },
     "metadata": {
      "needs_background": "light"
     },
     "output_type": "display_data"
    }
   ],
   "source": [
    "new_df = df.groupby(['Linha']).sum()\n",
    "new_df['Qtd_Viagens'].sort_values(ascending=False).plot.bar()\n",
    "plt.show()"
   ]
  },
  {
   "cell_type": "markdown",
   "metadata": {},
   "source": [
    "## Quantidade de Viagens por Mês"
   ]
  },
  {
   "cell_type": "code",
   "execution_count": 13,
   "metadata": {},
   "outputs": [
    {
     "data": {
      "image/png": "[encoded data removed]",
      "text/plain": [
       "<Figure size 432x288 with 1 Axes>"
      ]
     },
     "metadata": {
      "needs_background": "light"
     },
     "output_type": "display_data"
    }
   ],
   "source": [
    "new_df = df.groupby(['Mês']).sum()\n",
    "new_df['Qtd_Viagens'].plot.bar()\n",
    "plt.show()"
   ]
  },
  {
   "cell_type": "markdown",
   "metadata": {},
   "source": [
    "## Tipo de Passagem por mês"
   ]
  },
  {
   "cell_type": "code",
   "execution_count": 14,
   "metadata": {},
   "outputs": [
    {
     "data": {
      "image/png": "[encoded data removed]",
      "text/plain": [
       "<Figure size 432x288 with 1 Axes>"
      ]
     },
     "metadata": {
      "needs_background": "light"
     },
     "output_type": "display_data"
    }
   ],
   "source": [
    "df.groupby(['Mês'])[['Estudante_Cartao', 'Estudante_BT', 'Vale_Transporte', 'Integracao_Plena', 'Integracao_Complementar', 'Gratuito_Cartao', 'Gratuito_BT', 'Inteira_Cartao', 'Inteira_Especie','Tarifa_Social']].max().plot()\n",
    "plt.show()"
   ]
  },
  {
   "cell_type": "code",
   "execution_count": null,
   "metadata": {},
   "outputs": [],
   "source": []
  }
 ],
 "metadata": {
  "kernelspec": {
   "display_name": "Python 3",
   "language": "python",
   "name": "python3"
  },
  "language_info": {
   "codemirror_mode": {
    "name": "ipython",
    "version": 3
   },
   "file_extension": ".py",
   "mimetype": "text/x-python",
   "name": "python",
   "nbconvert_exporter": "python",
   "pygments_lexer": "ipython3",
   "version": "3.7.3"
  }
 },
 "nbformat": 4,
 "nbformat_minor": 2
}
