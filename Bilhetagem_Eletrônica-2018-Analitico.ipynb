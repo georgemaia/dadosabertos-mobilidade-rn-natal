{
 "cells": [
  {
   "cell_type": "markdown",
   "metadata": {},
   "source": [
    "# Datasets Portal da Transparência da Mobilidade Urbana de Natal/RN\n",
    "\n",
    "## Dataset Bilhetagem Eletrônica Analítico 2018\n",
    "\n",
    "http://dados.natal.br/dataset/bilhetagem-eletronica\n",
    "\n",
    "Dados BE 2018 - Analitico\n",
    "http://dados.natal.br/dataset/4fad551d-4d3b-4597-b8d3-7e887e22332e/resource/ec5b95a3-7b93-4346-98f6-1bd013faa651/download/dados-be-2018-analitico.csv"
   ]
  },
  {
   "cell_type": "code",
   "execution_count": 3,
   "metadata": {},
   "outputs": [],
   "source": [
    "import pandas as pd"
   ]
  },
  {
   "cell_type": "markdown",
   "metadata": {},
   "source": [
    "## Download do arquivo csv\n",
    "Vamos baixar o arquivo de 2018 com o comando wget\n",
    "comando abaixo esta comentando em função do Windows 10 não possuir o comando."
   ]
  },
  {
   "cell_type": "code",
   "execution_count": 5,
   "metadata": {},
   "outputs": [],
   "source": [
    "#wget -c http://dados.natal.br/dataset/4fad551d-4d3b-4597-b8d3-7e887e22332e/resource/ec5b95a3-7b93-4346-98f6-1bd013faa651/download/dados-be-2018-analitico.csv"
   ]
  },
  {
   "cell_type": "markdown",
   "metadata": {},
   "source": [
    "Verificar o arquivo baixado com o comando\n",
    "*ls -lah dados-be**"
   ]
  },
  {
   "cell_type": "code",
   "execution_count": null,
   "metadata": {},
   "outputs": [],
   "source": [
    "#ls -lah dados-be*"
   ]
  },
  {
   "cell_type": "markdown",
   "metadata": {},
   "source": [
    "## Carregar o arquivo CSV"
   ]
  },
  {
   "cell_type": "code",
   "execution_count": 4,
   "metadata": {},
   "outputs": [],
   "source": [
    "df = pd.read_csv(\"data\\dados-be-2018-analitico.csv\", encoding='iso-8859-1', sep=';', thousands=r'.')"
   ]
  },
  {
   "cell_type": "markdown",
   "metadata": {},
   "source": [
    "Checar se o arquivo foi carregado exibindo os primeiros registros"
   ]
  },
  {
   "cell_type": "code",
   "execution_count": 5,
   "metadata": {},
   "outputs": [
    {
     "data": {
      "text/html": [
       "<div>\n",
       "<style scoped>\n",
       "    .dataframe tbody tr th:only-of-type {\n",
       "        vertical-align: middle;\n",
       "    }\n",
       "\n",
       "    .dataframe tbody tr th {\n",
       "        vertical-align: top;\n",
       "    }\n",
       "\n",
       "    .dataframe thead th {\n",
       "        text-align: right;\n",
       "    }\n",
       "</style>\n",
       "<table border=\"1\" class=\"dataframe\">\n",
       "  <thead>\n",
       "    <tr style=\"text-align: right;\">\n",
       "      <th></th>\n",
       "      <th>Mês</th>\n",
       "      <th>Empresa</th>\n",
       "      <th>Linha</th>\n",
       "      <th>Estudante_Cartao</th>\n",
       "      <th>Estudante_BT</th>\n",
       "      <th>Vale_Transporte</th>\n",
       "      <th>Integracao_Plena</th>\n",
       "      <th>Integracao_Complementar</th>\n",
       "      <th>Gratuito_Cartao</th>\n",
       "      <th>Gratuito_BT</th>\n",
       "      <th>Inteira_Cartao</th>\n",
       "      <th>Inteira_Especie</th>\n",
       "      <th>Tarifa_Social</th>\n",
       "      <th>Qtd_Viagens</th>\n",
       "    </tr>\n",
       "  </thead>\n",
       "  <tbody>\n",
       "    <tr>\n",
       "      <th>0</th>\n",
       "      <td>1</td>\n",
       "      <td>CONCEIÇÃO</td>\n",
       "      <td>21</td>\n",
       "      <td>13493</td>\n",
       "      <td>9506</td>\n",
       "      <td>35944</td>\n",
       "      <td>8671</td>\n",
       "      <td>0</td>\n",
       "      <td>17138</td>\n",
       "      <td>7397</td>\n",
       "      <td>6542</td>\n",
       "      <td>43727</td>\n",
       "      <td>3965</td>\n",
       "      <td>3684</td>\n",
       "    </tr>\n",
       "    <tr>\n",
       "      <th>1</th>\n",
       "      <td>1</td>\n",
       "      <td>CONCEIÇÃO</td>\n",
       "      <td>22</td>\n",
       "      <td>4644</td>\n",
       "      <td>3371</td>\n",
       "      <td>13088</td>\n",
       "      <td>3230</td>\n",
       "      <td>0</td>\n",
       "      <td>8109</td>\n",
       "      <td>3157</td>\n",
       "      <td>2529</td>\n",
       "      <td>15363</td>\n",
       "      <td>0</td>\n",
       "      <td>1737</td>\n",
       "    </tr>\n",
       "    <tr>\n",
       "      <th>2</th>\n",
       "      <td>1</td>\n",
       "      <td>CONCEIÇÃO</td>\n",
       "      <td>30</td>\n",
       "      <td>8519</td>\n",
       "      <td>5614</td>\n",
       "      <td>20580</td>\n",
       "      <td>5346</td>\n",
       "      <td>0</td>\n",
       "      <td>7265</td>\n",
       "      <td>3191</td>\n",
       "      <td>4415</td>\n",
       "      <td>21507</td>\n",
       "      <td>1537</td>\n",
       "      <td>2500</td>\n",
       "    </tr>\n",
       "    <tr>\n",
       "      <th>3</th>\n",
       "      <td>1</td>\n",
       "      <td>CONCEIÇÃO</td>\n",
       "      <td>31</td>\n",
       "      <td>9631</td>\n",
       "      <td>6020</td>\n",
       "      <td>23460</td>\n",
       "      <td>7587</td>\n",
       "      <td>0</td>\n",
       "      <td>7065</td>\n",
       "      <td>2922</td>\n",
       "      <td>5491</td>\n",
       "      <td>22212</td>\n",
       "      <td>140</td>\n",
       "      <td>2478</td>\n",
       "    </tr>\n",
       "    <tr>\n",
       "      <th>4</th>\n",
       "      <td>1</td>\n",
       "      <td>CONCEIÇÃO</td>\n",
       "      <td>41</td>\n",
       "      <td>6556</td>\n",
       "      <td>4038</td>\n",
       "      <td>20388</td>\n",
       "      <td>7924</td>\n",
       "      <td>0</td>\n",
       "      <td>5704</td>\n",
       "      <td>2791</td>\n",
       "      <td>3883</td>\n",
       "      <td>13870</td>\n",
       "      <td>0</td>\n",
       "      <td>2296</td>\n",
       "    </tr>\n",
       "  </tbody>\n",
       "</table>\n",
       "</div>"
      ],
      "text/plain": [
       "   Mês    Empresa  Linha  Estudante_Cartao  Estudante_BT  Vale_Transporte  \\\n",
       "0    1  CONCEIÇÃO     21             13493          9506            35944   \n",
       "1    1  CONCEIÇÃO     22              4644          3371            13088   \n",
       "2    1  CONCEIÇÃO     30              8519          5614            20580   \n",
       "3    1  CONCEIÇÃO     31              9631          6020            23460   \n",
       "4    1  CONCEIÇÃO     41              6556          4038            20388   \n",
       "\n",
       "   Integracao_Plena  Integracao_Complementar  Gratuito_Cartao  Gratuito_BT  \\\n",
       "0              8671                        0            17138         7397   \n",
       "1              3230                        0             8109         3157   \n",
       "2              5346                        0             7265         3191   \n",
       "3              7587                        0             7065         2922   \n",
       "4              7924                        0             5704         2791   \n",
       "\n",
       "   Inteira_Cartao  Inteira_Especie  Tarifa_Social  Qtd_Viagens  \n",
       "0            6542            43727           3965         3684  \n",
       "1            2529            15363              0         1737  \n",
       "2            4415            21507           1537         2500  \n",
       "3            5491            22212            140         2478  \n",
       "4            3883            13870              0         2296  "
      ]
     },
     "execution_count": 5,
     "metadata": {},
     "output_type": "execute_result"
    }
   ],
   "source": [
    "df.head()"
   ]
  },
  {
   "cell_type": "markdown",
   "metadata": {},
   "source": [
    "Exibir 10 registros aleatórios"
   ]
  },
  {
   "cell_type": "code",
   "execution_count": 7,
   "metadata": {},
   "outputs": [
    {
     "data": {
      "text/html": [
       "<div>\n",
       "<style scoped>\n",
       "    .dataframe tbody tr th:only-of-type {\n",
       "        vertical-align: middle;\n",
       "    }\n",
       "\n",
       "    .dataframe tbody tr th {\n",
       "        vertical-align: top;\n",
       "    }\n",
       "\n",
       "    .dataframe thead th {\n",
       "        text-align: right;\n",
       "    }\n",
       "</style>\n",
       "<table border=\"1\" class=\"dataframe\">\n",
       "  <thead>\n",
       "    <tr style=\"text-align: right;\">\n",
       "      <th></th>\n",
       "      <th>Mês</th>\n",
       "      <th>Empresa</th>\n",
       "      <th>Linha</th>\n",
       "      <th>Estudante_Cartao</th>\n",
       "      <th>Estudante_BT</th>\n",
       "      <th>Vale_Transporte</th>\n",
       "      <th>Integracao_Plena</th>\n",
       "      <th>Integracao_Complementar</th>\n",
       "      <th>Gratuito_Cartao</th>\n",
       "      <th>Gratuito_BT</th>\n",
       "      <th>Inteira_Cartao</th>\n",
       "      <th>Inteira_Especie</th>\n",
       "      <th>Tarifa_Social</th>\n",
       "      <th>Qtd_Viagens</th>\n",
       "    </tr>\n",
       "  </thead>\n",
       "  <tbody>\n",
       "    <tr>\n",
       "      <th>137</th>\n",
       "      <td>2</td>\n",
       "      <td>GUANABARA - URB</td>\n",
       "      <td>72</td>\n",
       "      <td>11366</td>\n",
       "      <td>6718</td>\n",
       "      <td>28085</td>\n",
       "      <td>7090</td>\n",
       "      <td>122</td>\n",
       "      <td>6249</td>\n",
       "      <td>3002</td>\n",
       "      <td>5430</td>\n",
       "      <td>30652</td>\n",
       "      <td>670</td>\n",
       "      <td>1954</td>\n",
       "    </tr>\n",
       "    <tr>\n",
       "      <th>627</th>\n",
       "      <td>7</td>\n",
       "      <td>GUANABARA - URB</td>\n",
       "      <td>7502</td>\n",
       "      <td>1475</td>\n",
       "      <td>413</td>\n",
       "      <td>1663</td>\n",
       "      <td>367</td>\n",
       "      <td>0</td>\n",
       "      <td>611</td>\n",
       "      <td>277</td>\n",
       "      <td>483</td>\n",
       "      <td>1877</td>\n",
       "      <td>0</td>\n",
       "      <td>158</td>\n",
       "    </tr>\n",
       "    <tr>\n",
       "      <th>183</th>\n",
       "      <td>2</td>\n",
       "      <td>SANTA MARIA - URB</td>\n",
       "      <td>66</td>\n",
       "      <td>7483</td>\n",
       "      <td>5794</td>\n",
       "      <td>13471</td>\n",
       "      <td>1938</td>\n",
       "      <td>0</td>\n",
       "      <td>3053</td>\n",
       "      <td>1758</td>\n",
       "      <td>2968</td>\n",
       "      <td>17301</td>\n",
       "      <td>1121</td>\n",
       "      <td>1933</td>\n",
       "    </tr>\n",
       "    <tr>\n",
       "      <th>1128</th>\n",
       "      <td>12</td>\n",
       "      <td>SANTA MARIA - URB</td>\n",
       "      <td>48</td>\n",
       "      <td>12260</td>\n",
       "      <td>4343</td>\n",
       "      <td>14587</td>\n",
       "      <td>5088</td>\n",
       "      <td>0</td>\n",
       "      <td>7168</td>\n",
       "      <td>5113</td>\n",
       "      <td>3111</td>\n",
       "      <td>22690</td>\n",
       "      <td>747</td>\n",
       "      <td>2165</td>\n",
       "    </tr>\n",
       "    <tr>\n",
       "      <th>262</th>\n",
       "      <td>3</td>\n",
       "      <td>REUNIDAS</td>\n",
       "      <td>6443</td>\n",
       "      <td>9957</td>\n",
       "      <td>4735</td>\n",
       "      <td>18841</td>\n",
       "      <td>4440</td>\n",
       "      <td>9</td>\n",
       "      <td>6298</td>\n",
       "      <td>2603</td>\n",
       "      <td>4431</td>\n",
       "      <td>17776</td>\n",
       "      <td>314</td>\n",
       "      <td>1206</td>\n",
       "    </tr>\n",
       "    <tr>\n",
       "      <th>69</th>\n",
       "      <td>1</td>\n",
       "      <td>REUNIDAS</td>\n",
       "      <td>35</td>\n",
       "      <td>14300</td>\n",
       "      <td>8069</td>\n",
       "      <td>35898</td>\n",
       "      <td>11112</td>\n",
       "      <td>813</td>\n",
       "      <td>13376</td>\n",
       "      <td>6317</td>\n",
       "      <td>9356</td>\n",
       "      <td>30393</td>\n",
       "      <td>2981</td>\n",
       "      <td>2757</td>\n",
       "    </tr>\n",
       "    <tr>\n",
       "      <th>608</th>\n",
       "      <td>7</td>\n",
       "      <td>GUANABARA - URB</td>\n",
       "      <td>76</td>\n",
       "      <td>3388</td>\n",
       "      <td>1305</td>\n",
       "      <td>6959</td>\n",
       "      <td>1566</td>\n",
       "      <td>61</td>\n",
       "      <td>3567</td>\n",
       "      <td>922</td>\n",
       "      <td>1425</td>\n",
       "      <td>7836</td>\n",
       "      <td>0</td>\n",
       "      <td>576</td>\n",
       "    </tr>\n",
       "    <tr>\n",
       "      <th>866</th>\n",
       "      <td>10</td>\n",
       "      <td>CONCEIÇÃO</td>\n",
       "      <td>587</td>\n",
       "      <td>1977</td>\n",
       "      <td>3</td>\n",
       "      <td>610</td>\n",
       "      <td>202</td>\n",
       "      <td>0</td>\n",
       "      <td>1231</td>\n",
       "      <td>230</td>\n",
       "      <td>155</td>\n",
       "      <td>1858</td>\n",
       "      <td>285</td>\n",
       "      <td>1492</td>\n",
       "    </tr>\n",
       "    <tr>\n",
       "      <th>830</th>\n",
       "      <td>9</td>\n",
       "      <td>REUNIDAS</td>\n",
       "      <td>1778</td>\n",
       "      <td>4669</td>\n",
       "      <td>954</td>\n",
       "      <td>7679</td>\n",
       "      <td>1490</td>\n",
       "      <td>40</td>\n",
       "      <td>2887</td>\n",
       "      <td>1768</td>\n",
       "      <td>1505</td>\n",
       "      <td>8280</td>\n",
       "      <td>730</td>\n",
       "      <td>759</td>\n",
       "    </tr>\n",
       "    <tr>\n",
       "      <th>189</th>\n",
       "      <td>2</td>\n",
       "      <td>VIA SUL - URB</td>\n",
       "      <td>50</td>\n",
       "      <td>27193</td>\n",
       "      <td>17532</td>\n",
       "      <td>59793</td>\n",
       "      <td>17904</td>\n",
       "      <td>136</td>\n",
       "      <td>14454</td>\n",
       "      <td>6269</td>\n",
       "      <td>11507</td>\n",
       "      <td>51027</td>\n",
       "      <td>1620</td>\n",
       "      <td>4241</td>\n",
       "    </tr>\n",
       "  </tbody>\n",
       "</table>\n",
       "</div>"
      ],
      "text/plain": [
       "      Mês            Empresa  Linha  Estudante_Cartao  Estudante_BT  \\\n",
       "137     2    GUANABARA - URB     72             11366          6718   \n",
       "627     7    GUANABARA - URB   7502              1475           413   \n",
       "183     2  SANTA MARIA - URB     66              7483          5794   \n",
       "1128   12  SANTA MARIA - URB     48             12260          4343   \n",
       "262     3           REUNIDAS   6443              9957          4735   \n",
       "69      1           REUNIDAS     35             14300          8069   \n",
       "608     7    GUANABARA - URB     76              3388          1305   \n",
       "866    10          CONCEIÇÃO    587              1977             3   \n",
       "830     9           REUNIDAS   1778              4669           954   \n",
       "189     2      VIA SUL - URB     50             27193         17532   \n",
       "\n",
       "      Vale_Transporte  Integracao_Plena  Integracao_Complementar  \\\n",
       "137             28085              7090                      122   \n",
       "627              1663               367                        0   \n",
       "183             13471              1938                        0   \n",
       "1128            14587              5088                        0   \n",
       "262             18841              4440                        9   \n",
       "69              35898             11112                      813   \n",
       "608              6959              1566                       61   \n",
       "866               610               202                        0   \n",
       "830              7679              1490                       40   \n",
       "189             59793             17904                      136   \n",
       "\n",
       "      Gratuito_Cartao  Gratuito_BT  Inteira_Cartao  Inteira_Especie  \\\n",
       "137              6249         3002            5430            30652   \n",
       "627               611          277             483             1877   \n",
       "183              3053         1758            2968            17301   \n",
       "1128             7168         5113            3111            22690   \n",
       "262              6298         2603            4431            17776   \n",
       "69              13376         6317            9356            30393   \n",
       "608              3567          922            1425             7836   \n",
       "866              1231          230             155             1858   \n",
       "830              2887         1768            1505             8280   \n",
       "189             14454         6269           11507            51027   \n",
       "\n",
       "      Tarifa_Social  Qtd_Viagens  \n",
       "137             670         1954  \n",
       "627               0          158  \n",
       "183            1121         1933  \n",
       "1128            747         2165  \n",
       "262             314         1206  \n",
       "69             2981         2757  \n",
       "608               0          576  \n",
       "866             285         1492  \n",
       "830             730          759  \n",
       "189            1620         4241  "
      ]
     },
     "execution_count": 7,
     "metadata": {},
     "output_type": "execute_result"
    }
   ],
   "source": [
    "df.sample(10)"
   ]
  },
  {
   "cell_type": "markdown",
   "metadata": {},
   "source": [
    "## Visualizar o descritivo da estrtura de dados com o número de linhas e colunas"
   ]
  },
  {
   "cell_type": "code",
   "execution_count": 8,
   "metadata": {},
   "outputs": [
    {
     "data": {
      "text/plain": [
       "(1141, 14)"
      ]
     },
     "execution_count": 8,
     "metadata": {},
     "output_type": "execute_result"
    }
   ],
   "source": [
    "df.shape"
   ]
  },
  {
   "cell_type": "markdown",
   "metadata": {},
   "source": [
    "## Visualizar informações básicas do dataset como colunas, tamanho, tipo de valores, etc.."
   ]
  },
  {
   "cell_type": "code",
   "execution_count": 9,
   "metadata": {},
   "outputs": [
    {
     "name": "stdout",
     "output_type": "stream",
     "text": [
      "<class 'pandas.core.frame.DataFrame'>\n",
      "RangeIndex: 1141 entries, 0 to 1140\n",
      "Data columns (total 14 columns):\n",
      "Mês                        1141 non-null int64\n",
      "Empresa                    1141 non-null object\n",
      "Linha                      1141 non-null int64\n",
      "Estudante_Cartao           1141 non-null int64\n",
      "Estudante_BT               1141 non-null int64\n",
      "Vale_Transporte            1141 non-null int64\n",
      "Integracao_Plena           1141 non-null int64\n",
      "Integracao_Complementar    1141 non-null int64\n",
      "Gratuito_Cartao            1141 non-null int64\n",
      "Gratuito_BT                1141 non-null int64\n",
      "Inteira_Cartao             1141 non-null int64\n",
      "Inteira_Especie            1141 non-null int64\n",
      "Tarifa_Social              1141 non-null int64\n",
      "Qtd_Viagens                1141 non-null int64\n",
      "dtypes: int64(13), object(1)\n",
      "memory usage: 124.9+ KB\n"
     ]
    }
   ],
   "source": [
    "df.info()"
   ]
  },
  {
   "cell_type": "markdown",
   "metadata": {},
   "source": [
    "## Exibir informações estatísticas das colunas numéricas"
   ]
  },
  {
   "cell_type": "code",
   "execution_count": 10,
   "metadata": {},
   "outputs": [
    {
     "data": {
      "text/html": [
       "<div>\n",
       "<style scoped>\n",
       "    .dataframe tbody tr th:only-of-type {\n",
       "        vertical-align: middle;\n",
       "    }\n",
       "\n",
       "    .dataframe tbody tr th {\n",
       "        vertical-align: top;\n",
       "    }\n",
       "\n",
       "    .dataframe thead th {\n",
       "        text-align: right;\n",
       "    }\n",
       "</style>\n",
       "<table border=\"1\" class=\"dataframe\">\n",
       "  <thead>\n",
       "    <tr style=\"text-align: right;\">\n",
       "      <th></th>\n",
       "      <th>Mês</th>\n",
       "      <th>Linha</th>\n",
       "      <th>Estudante_Cartao</th>\n",
       "      <th>Estudante_BT</th>\n",
       "      <th>Vale_Transporte</th>\n",
       "      <th>Integracao_Plena</th>\n",
       "      <th>Integracao_Complementar</th>\n",
       "      <th>Gratuito_Cartao</th>\n",
       "      <th>Gratuito_BT</th>\n",
       "      <th>Inteira_Cartao</th>\n",
       "      <th>Inteira_Especie</th>\n",
       "      <th>Tarifa_Social</th>\n",
       "      <th>Qtd_Viagens</th>\n",
       "    </tr>\n",
       "  </thead>\n",
       "  <tbody>\n",
       "    <tr>\n",
       "      <th>count</th>\n",
       "      <td>1141.000000</td>\n",
       "      <td>1141.000000</td>\n",
       "      <td>1141.000000</td>\n",
       "      <td>1141.000000</td>\n",
       "      <td>1141.000000</td>\n",
       "      <td>1141.000000</td>\n",
       "      <td>1141.000000</td>\n",
       "      <td>1141.000000</td>\n",
       "      <td>1141.000000</td>\n",
       "      <td>1141.000000</td>\n",
       "      <td>1141.000000</td>\n",
       "      <td>1141.000000</td>\n",
       "      <td>1141.000000</td>\n",
       "    </tr>\n",
       "    <tr>\n",
       "      <th>mean</th>\n",
       "      <td>6.501315</td>\n",
       "      <td>1111.489045</td>\n",
       "      <td>13357.290096</td>\n",
       "      <td>5142.852761</td>\n",
       "      <td>21148.921998</td>\n",
       "      <td>6045.431201</td>\n",
       "      <td>73.226994</td>\n",
       "      <td>7238.357581</td>\n",
       "      <td>3461.227870</td>\n",
       "      <td>4510.539001</td>\n",
       "      <td>21086.677476</td>\n",
       "      <td>1045.451358</td>\n",
       "      <td>1907.993865</td>\n",
       "    </tr>\n",
       "    <tr>\n",
       "      <th>std</th>\n",
       "      <td>3.464006</td>\n",
       "      <td>2241.727880</td>\n",
       "      <td>12271.943573</td>\n",
       "      <td>5299.710310</td>\n",
       "      <td>19264.622770</td>\n",
       "      <td>6105.457782</td>\n",
       "      <td>163.958350</td>\n",
       "      <td>6295.643277</td>\n",
       "      <td>3010.474741</td>\n",
       "      <td>3765.546539</td>\n",
       "      <td>17995.550555</td>\n",
       "      <td>1808.953070</td>\n",
       "      <td>1284.056937</td>\n",
       "    </tr>\n",
       "    <tr>\n",
       "      <th>min</th>\n",
       "      <td>1.000000</td>\n",
       "      <td>2.000000</td>\n",
       "      <td>0.000000</td>\n",
       "      <td>0.000000</td>\n",
       "      <td>0.000000</td>\n",
       "      <td>0.000000</td>\n",
       "      <td>0.000000</td>\n",
       "      <td>0.000000</td>\n",
       "      <td>0.000000</td>\n",
       "      <td>0.000000</td>\n",
       "      <td>0.000000</td>\n",
       "      <td>0.000000</td>\n",
       "      <td>1.000000</td>\n",
       "    </tr>\n",
       "    <tr>\n",
       "      <th>25%</th>\n",
       "      <td>3.000000</td>\n",
       "      <td>39.000000</td>\n",
       "      <td>4138.000000</td>\n",
       "      <td>1334.000000</td>\n",
       "      <td>6673.000000</td>\n",
       "      <td>1441.000000</td>\n",
       "      <td>0.000000</td>\n",
       "      <td>2908.000000</td>\n",
       "      <td>987.000000</td>\n",
       "      <td>1438.000000</td>\n",
       "      <td>7176.000000</td>\n",
       "      <td>0.000000</td>\n",
       "      <td>760.000000</td>\n",
       "    </tr>\n",
       "    <tr>\n",
       "      <th>50%</th>\n",
       "      <td>7.000000</td>\n",
       "      <td>75.000000</td>\n",
       "      <td>9631.000000</td>\n",
       "      <td>3623.000000</td>\n",
       "      <td>15713.000000</td>\n",
       "      <td>4093.000000</td>\n",
       "      <td>0.000000</td>\n",
       "      <td>5884.000000</td>\n",
       "      <td>2929.000000</td>\n",
       "      <td>3588.000000</td>\n",
       "      <td>17289.000000</td>\n",
       "      <td>276.000000</td>\n",
       "      <td>1772.000000</td>\n",
       "    </tr>\n",
       "    <tr>\n",
       "      <th>75%</th>\n",
       "      <td>10.000000</td>\n",
       "      <td>599.000000</td>\n",
       "      <td>19605.000000</td>\n",
       "      <td>7279.000000</td>\n",
       "      <td>31430.000000</td>\n",
       "      <td>8901.000000</td>\n",
       "      <td>65.000000</td>\n",
       "      <td>10178.000000</td>\n",
       "      <td>5036.000000</td>\n",
       "      <td>6876.000000</td>\n",
       "      <td>31185.000000</td>\n",
       "      <td>1345.000000</td>\n",
       "      <td>2817.000000</td>\n",
       "    </tr>\n",
       "    <tr>\n",
       "      <th>max</th>\n",
       "      <td>12.000000</td>\n",
       "      <td>9018.000000</td>\n",
       "      <td>64442.000000</td>\n",
       "      <td>38952.000000</td>\n",
       "      <td>114307.000000</td>\n",
       "      <td>35933.000000</td>\n",
       "      <td>1353.000000</td>\n",
       "      <td>37702.000000</td>\n",
       "      <td>17586.000000</td>\n",
       "      <td>18331.000000</td>\n",
       "      <td>97977.000000</td>\n",
       "      <td>17298.000000</td>\n",
       "      <td>5407.000000</td>\n",
       "    </tr>\n",
       "  </tbody>\n",
       "</table>\n",
       "</div>"
      ],
      "text/plain": [
       "               Mês        Linha  Estudante_Cartao  Estudante_BT  \\\n",
       "count  1141.000000  1141.000000       1141.000000   1141.000000   \n",
       "mean      6.501315  1111.489045      13357.290096   5142.852761   \n",
       "std       3.464006  2241.727880      12271.943573   5299.710310   \n",
       "min       1.000000     2.000000          0.000000      0.000000   \n",
       "25%       3.000000    39.000000       4138.000000   1334.000000   \n",
       "50%       7.000000    75.000000       9631.000000   3623.000000   \n",
       "75%      10.000000   599.000000      19605.000000   7279.000000   \n",
       "max      12.000000  9018.000000      64442.000000  38952.000000   \n",
       "\n",
       "       Vale_Transporte  Integracao_Plena  Integracao_Complementar  \\\n",
       "count      1141.000000       1141.000000              1141.000000   \n",
       "mean      21148.921998       6045.431201                73.226994   \n",
       "std       19264.622770       6105.457782               163.958350   \n",
       "min           0.000000          0.000000                 0.000000   \n",
       "25%        6673.000000       1441.000000                 0.000000   \n",
       "50%       15713.000000       4093.000000                 0.000000   \n",
       "75%       31430.000000       8901.000000                65.000000   \n",
       "max      114307.000000      35933.000000              1353.000000   \n",
       "\n",
       "       Gratuito_Cartao   Gratuito_BT  Inteira_Cartao  Inteira_Especie  \\\n",
       "count      1141.000000   1141.000000     1141.000000      1141.000000   \n",
       "mean       7238.357581   3461.227870     4510.539001     21086.677476   \n",
       "std        6295.643277   3010.474741     3765.546539     17995.550555   \n",
       "min           0.000000      0.000000        0.000000         0.000000   \n",
       "25%        2908.000000    987.000000     1438.000000      7176.000000   \n",
       "50%        5884.000000   2929.000000     3588.000000     17289.000000   \n",
       "75%       10178.000000   5036.000000     6876.000000     31185.000000   \n",
       "max       37702.000000  17586.000000    18331.000000     97977.000000   \n",
       "\n",
       "       Tarifa_Social  Qtd_Viagens  \n",
       "count    1141.000000  1141.000000  \n",
       "mean     1045.451358  1907.993865  \n",
       "std      1808.953070  1284.056937  \n",
       "min         0.000000     1.000000  \n",
       "25%         0.000000   760.000000  \n",
       "50%       276.000000  1772.000000  \n",
       "75%      1345.000000  2817.000000  \n",
       "max     17298.000000  5407.000000  "
      ]
     },
     "execution_count": 10,
     "metadata": {},
     "output_type": "execute_result"
    }
   ],
   "source": [
    "df.describe()"
   ]
  },
  {
   "cell_type": "markdown",
   "metadata": {},
   "source": [
    "## Exibir a quantidade de empresas"
   ]
  },
  {
   "cell_type": "code",
   "execution_count": 19,
   "metadata": {},
   "outputs": [
    {
     "data": {
      "text/plain": [
       "6"
      ]
     },
     "execution_count": 19,
     "metadata": {},
     "output_type": "execute_result"
    }
   ],
   "source": [
    "empresas = df['Empresa'].unique()\n",
    "len(empresas)"
   ]
  },
  {
   "cell_type": "code",
   "execution_count": null,
   "metadata": {},
   "outputs": [],
   "source": []
  },
  {
   "cell_type": "markdown",
   "metadata": {},
   "source": [
    "## Exibir a quantidade de linhas de ônibus"
   ]
  },
  {
   "cell_type": "code",
   "execution_count": 5,
   "metadata": {},
   "outputs": [
    {
     "data": {
      "text/plain": [
       "94"
      ]
     },
     "execution_count": 5,
     "metadata": {},
     "output_type": "execute_result"
    }
   ],
   "source": [
    "linhas = df['Linha'].unique()\n",
    "len(linhas)"
   ]
  },
  {
   "cell_type": "markdown",
   "metadata": {},
   "source": [
    "## Quantidade de viagens por mês"
   ]
  },
  {
   "cell_type": "markdown",
   "metadata": {},
   "source": [
    "## Quantidade de passageiros por mês"
   ]
  },
  {
   "cell_type": "markdown",
   "metadata": {},
   "source": [
    "## Quantidade de Tipos de passagens por mês"
   ]
  },
  {
   "cell_type": "markdown",
   "metadata": {},
   "source": [
    "## Quantidade de passagens por empresa"
   ]
  },
  {
   "cell_type": "markdown",
   "metadata": {},
   "source": [
    "## Quantidade de viagens por linha"
   ]
  },
  {
   "cell_type": "markdown",
   "metadata": {},
   "source": [
    "## Quantidade de passagens por mês"
   ]
  },
  {
   "cell_type": "markdown",
   "metadata": {},
   "source": [
    "# Gráficos"
   ]
  },
  {
   "cell_type": "code",
   "execution_count": 9,
   "metadata": {},
   "outputs": [],
   "source": [
    "import numpy as np\n",
    "import matplotlib.pyplot as plt"
   ]
  },
  {
   "cell_type": "markdown",
   "metadata": {},
   "source": [
    "## Quantidade de Viagens por Empresa anual"
   ]
  },
  {
   "cell_type": "code",
   "execution_count": 24,
   "metadata": {},
   "outputs": [
    {
     "ename": "KeyError",
     "evalue": "'Empresa'",
     "output_type": "error",
     "traceback": [
      "\u001b[1;31m---------------------------------------------------------------------------\u001b[0m",
      "\u001b[1;31mKeyError\u001b[0m                                  Traceback (most recent call last)",
      "\u001b[1;32m~\\Anaconda3\\lib\\site-packages\\pandas\\core\\indexes\\base.py\u001b[0m in \u001b[0;36mget_loc\u001b[1;34m(self, key, method, tolerance)\u001b[0m\n\u001b[0;32m   2656\u001b[0m             \u001b[1;32mtry\u001b[0m\u001b[1;33m:\u001b[0m\u001b[1;33m\u001b[0m\u001b[1;33m\u001b[0m\u001b[0m\n\u001b[1;32m-> 2657\u001b[1;33m                 \u001b[1;32mreturn\u001b[0m \u001b[0mself\u001b[0m\u001b[1;33m.\u001b[0m\u001b[0m_engine\u001b[0m\u001b[1;33m.\u001b[0m\u001b[0mget_loc\u001b[0m\u001b[1;33m(\u001b[0m\u001b[0mkey\u001b[0m\u001b[1;33m)\u001b[0m\u001b[1;33m\u001b[0m\u001b[1;33m\u001b[0m\u001b[0m\n\u001b[0m\u001b[0;32m   2658\u001b[0m             \u001b[1;32mexcept\u001b[0m \u001b[0mKeyError\u001b[0m\u001b[1;33m:\u001b[0m\u001b[1;33m\u001b[0m\u001b[1;33m\u001b[0m\u001b[0m\n",
      "\u001b[1;32mpandas/_libs/index.pyx\u001b[0m in \u001b[0;36mpandas._libs.index.IndexEngine.get_loc\u001b[1;34m()\u001b[0m\n",
      "\u001b[1;32mpandas/_libs/index.pyx\u001b[0m in \u001b[0;36mpandas._libs.index.IndexEngine.get_loc\u001b[1;34m()\u001b[0m\n",
      "\u001b[1;32mpandas/_libs/hashtable_class_helper.pxi\u001b[0m in \u001b[0;36mpandas._libs.hashtable.PyObjectHashTable.get_item\u001b[1;34m()\u001b[0m\n",
      "\u001b[1;32mpandas/_libs/hashtable_class_helper.pxi\u001b[0m in \u001b[0;36mpandas._libs.hashtable.PyObjectHashTable.get_item\u001b[1;34m()\u001b[0m\n",
      "\u001b[1;31mKeyError\u001b[0m: 'Empresa'",
      "\nDuring handling of the above exception, another exception occurred:\n",
      "\u001b[1;31mKeyError\u001b[0m                                  Traceback (most recent call last)",
      "\u001b[1;32m<ipython-input-24-e775e528b125>\u001b[0m in \u001b[0;36m<module>\u001b[1;34m\u001b[0m\n\u001b[0;32m      1\u001b[0m \u001b[0mnew_df\u001b[0m \u001b[1;33m=\u001b[0m \u001b[0mdf\u001b[0m\u001b[1;33m.\u001b[0m\u001b[0mgroupby\u001b[0m\u001b[1;33m(\u001b[0m\u001b[1;33m[\u001b[0m\u001b[1;34m'Qtd_Viagens'\u001b[0m\u001b[1;33m]\u001b[0m\u001b[1;33m)\u001b[0m\u001b[1;33m.\u001b[0m\u001b[0msum\u001b[0m\u001b[1;33m(\u001b[0m\u001b[1;33m)\u001b[0m\u001b[1;33m\u001b[0m\u001b[1;33m\u001b[0m\u001b[0m\n\u001b[1;32m----> 2\u001b[1;33m \u001b[0mnew_df\u001b[0m\u001b[1;33m[\u001b[0m\u001b[1;34m'Empresa'\u001b[0m\u001b[1;33m]\u001b[0m\u001b[1;33m.\u001b[0m\u001b[0msort_values\u001b[0m\u001b[1;33m(\u001b[0m\u001b[0mascending\u001b[0m\u001b[1;33m=\u001b[0m\u001b[1;32mFalse\u001b[0m\u001b[1;33m)\u001b[0m\u001b[1;33m.\u001b[0m\u001b[0mplot\u001b[0m\u001b[1;33m.\u001b[0m\u001b[0mbar\u001b[0m\u001b[1;33m(\u001b[0m\u001b[1;33m)\u001b[0m\u001b[1;33m\u001b[0m\u001b[1;33m\u001b[0m\u001b[0m\n\u001b[0m\u001b[0;32m      3\u001b[0m \u001b[0mplt\u001b[0m\u001b[1;33m.\u001b[0m\u001b[0mshow\u001b[0m\u001b[1;33m(\u001b[0m\u001b[1;33m)\u001b[0m\u001b[1;33m\u001b[0m\u001b[1;33m\u001b[0m\u001b[0m\n",
      "\u001b[1;32m~\\Anaconda3\\lib\\site-packages\\pandas\\core\\frame.py\u001b[0m in \u001b[0;36m__getitem__\u001b[1;34m(self, key)\u001b[0m\n\u001b[0;32m   2925\u001b[0m             \u001b[1;32mif\u001b[0m \u001b[0mself\u001b[0m\u001b[1;33m.\u001b[0m\u001b[0mcolumns\u001b[0m\u001b[1;33m.\u001b[0m\u001b[0mnlevels\u001b[0m \u001b[1;33m>\u001b[0m \u001b[1;36m1\u001b[0m\u001b[1;33m:\u001b[0m\u001b[1;33m\u001b[0m\u001b[1;33m\u001b[0m\u001b[0m\n\u001b[0;32m   2926\u001b[0m                 \u001b[1;32mreturn\u001b[0m \u001b[0mself\u001b[0m\u001b[1;33m.\u001b[0m\u001b[0m_getitem_multilevel\u001b[0m\u001b[1;33m(\u001b[0m\u001b[0mkey\u001b[0m\u001b[1;33m)\u001b[0m\u001b[1;33m\u001b[0m\u001b[1;33m\u001b[0m\u001b[0m\n\u001b[1;32m-> 2927\u001b[1;33m             \u001b[0mindexer\u001b[0m \u001b[1;33m=\u001b[0m \u001b[0mself\u001b[0m\u001b[1;33m.\u001b[0m\u001b[0mcolumns\u001b[0m\u001b[1;33m.\u001b[0m\u001b[0mget_loc\u001b[0m\u001b[1;33m(\u001b[0m\u001b[0mkey\u001b[0m\u001b[1;33m)\u001b[0m\u001b[1;33m\u001b[0m\u001b[1;33m\u001b[0m\u001b[0m\n\u001b[0m\u001b[0;32m   2928\u001b[0m             \u001b[1;32mif\u001b[0m \u001b[0mis_integer\u001b[0m\u001b[1;33m(\u001b[0m\u001b[0mindexer\u001b[0m\u001b[1;33m)\u001b[0m\u001b[1;33m:\u001b[0m\u001b[1;33m\u001b[0m\u001b[1;33m\u001b[0m\u001b[0m\n\u001b[0;32m   2929\u001b[0m                 \u001b[0mindexer\u001b[0m \u001b[1;33m=\u001b[0m \u001b[1;33m[\u001b[0m\u001b[0mindexer\u001b[0m\u001b[1;33m]\u001b[0m\u001b[1;33m\u001b[0m\u001b[1;33m\u001b[0m\u001b[0m\n",
      "\u001b[1;32m~\\Anaconda3\\lib\\site-packages\\pandas\\core\\indexes\\base.py\u001b[0m in \u001b[0;36mget_loc\u001b[1;34m(self, key, method, tolerance)\u001b[0m\n\u001b[0;32m   2657\u001b[0m                 \u001b[1;32mreturn\u001b[0m \u001b[0mself\u001b[0m\u001b[1;33m.\u001b[0m\u001b[0m_engine\u001b[0m\u001b[1;33m.\u001b[0m\u001b[0mget_loc\u001b[0m\u001b[1;33m(\u001b[0m\u001b[0mkey\u001b[0m\u001b[1;33m)\u001b[0m\u001b[1;33m\u001b[0m\u001b[1;33m\u001b[0m\u001b[0m\n\u001b[0;32m   2658\u001b[0m             \u001b[1;32mexcept\u001b[0m \u001b[0mKeyError\u001b[0m\u001b[1;33m:\u001b[0m\u001b[1;33m\u001b[0m\u001b[1;33m\u001b[0m\u001b[0m\n\u001b[1;32m-> 2659\u001b[1;33m                 \u001b[1;32mreturn\u001b[0m \u001b[0mself\u001b[0m\u001b[1;33m.\u001b[0m\u001b[0m_engine\u001b[0m\u001b[1;33m.\u001b[0m\u001b[0mget_loc\u001b[0m\u001b[1;33m(\u001b[0m\u001b[0mself\u001b[0m\u001b[1;33m.\u001b[0m\u001b[0m_maybe_cast_indexer\u001b[0m\u001b[1;33m(\u001b[0m\u001b[0mkey\u001b[0m\u001b[1;33m)\u001b[0m\u001b[1;33m)\u001b[0m\u001b[1;33m\u001b[0m\u001b[1;33m\u001b[0m\u001b[0m\n\u001b[0m\u001b[0;32m   2660\u001b[0m         \u001b[0mindexer\u001b[0m \u001b[1;33m=\u001b[0m \u001b[0mself\u001b[0m\u001b[1;33m.\u001b[0m\u001b[0mget_indexer\u001b[0m\u001b[1;33m(\u001b[0m\u001b[1;33m[\u001b[0m\u001b[0mkey\u001b[0m\u001b[1;33m]\u001b[0m\u001b[1;33m,\u001b[0m \u001b[0mmethod\u001b[0m\u001b[1;33m=\u001b[0m\u001b[0mmethod\u001b[0m\u001b[1;33m,\u001b[0m \u001b[0mtolerance\u001b[0m\u001b[1;33m=\u001b[0m\u001b[0mtolerance\u001b[0m\u001b[1;33m)\u001b[0m\u001b[1;33m\u001b[0m\u001b[1;33m\u001b[0m\u001b[0m\n\u001b[0;32m   2661\u001b[0m         \u001b[1;32mif\u001b[0m \u001b[0mindexer\u001b[0m\u001b[1;33m.\u001b[0m\u001b[0mndim\u001b[0m \u001b[1;33m>\u001b[0m \u001b[1;36m1\u001b[0m \u001b[1;32mor\u001b[0m \u001b[0mindexer\u001b[0m\u001b[1;33m.\u001b[0m\u001b[0msize\u001b[0m \u001b[1;33m>\u001b[0m \u001b[1;36m1\u001b[0m\u001b[1;33m:\u001b[0m\u001b[1;33m\u001b[0m\u001b[1;33m\u001b[0m\u001b[0m\n",
      "\u001b[1;32mpandas/_libs/index.pyx\u001b[0m in \u001b[0;36mpandas._libs.index.IndexEngine.get_loc\u001b[1;34m()\u001b[0m\n",
      "\u001b[1;32mpandas/_libs/index.pyx\u001b[0m in \u001b[0;36mpandas._libs.index.IndexEngine.get_loc\u001b[1;34m()\u001b[0m\n",
      "\u001b[1;32mpandas/_libs/hashtable_class_helper.pxi\u001b[0m in \u001b[0;36mpandas._libs.hashtable.PyObjectHashTable.get_item\u001b[1;34m()\u001b[0m\n",
      "\u001b[1;32mpandas/_libs/hashtable_class_helper.pxi\u001b[0m in \u001b[0;36mpandas._libs.hashtable.PyObjectHashTable.get_item\u001b[1;34m()\u001b[0m\n",
      "\u001b[1;31mKeyError\u001b[0m: 'Empresa'"
     ]
    }
   ],
   "source": [
    "new_df = df.groupby(['Empresa']).sum()\n",
    "new_df['Qtd_Viagens'].sort_values(ascending=False).plot.bar()\n",
    "plt.show()"
   ]
  },
  {
   "cell_type": "markdown",
   "metadata": {},
   "source": [
    "## Quantidade de Viagens anual por Linha"
   ]
  },
  {
   "cell_type": "code",
   "execution_count": 18,
   "metadata": {},
   "outputs": [
    {
     "data": {
      "image/png": "[encoded data removed]",
      "text/plain": [
       "<Figure size 432x288 with 1 Axes>"
      ]
     },
     "metadata": {
      "needs_background": "light"
     },
     "output_type": "display_data"
    }
   ],
   "source": [
    "new_df = df.groupby(['Linha']).sum()\n",
    "new_df['Qtd_Viagens'].sort_values(ascending=False).plot.bar()\n",
    "plt.show()"
   ]
  },
  {
   "cell_type": "markdown",
   "metadata": {},
   "source": [
    "## Quantidade de Viagens por Mês"
   ]
  },
  {
   "cell_type": "code",
   "execution_count": 17,
   "metadata": {},
   "outputs": [
    {
     "data": {
      "image/png": "[encoded data removed]",
      "text/plain": [
       "<Figure size 432x288 with 1 Axes>"
      ]
     },
     "metadata": {
      "needs_background": "light"
     },
     "output_type": "display_data"
    }
   ],
   "source": [
    "new_df = df.groupby(['Mês']).sum()\n",
    "new_df['Qtd_Viagens'].plot.bar()\n",
    "plt.show()"
   ]
  },
  {
   "cell_type": "markdown",
   "metadata": {},
   "source": [
    "## Tipo de Passagem por mês"
   ]
  },
  {
   "cell_type": "code",
   "execution_count": 23,
   "metadata": {},
   "outputs": [
    {
     "data": {
      "image/png": "[encoded data removed]",
      "text/plain": [
       "<Figure size 432x288 with 1 Axes>"
      ]
     },
     "metadata": {
      "needs_background": "light"
     },
     "output_type": "display_data"
    }
   ],
   "source": [
    "df.groupby(['Mês'])[['Estudante_Cartao', 'Estudante_BT', 'Vale_Transporte', 'Integracao_Plena', 'Integracao_Complementar', 'Gratuito_Cartao', 'Gratuito_BT', 'Inteira_Cartao', 'Inteira_Especie','Tarifa_Social']].max().plot()\n",
    "plt.show()"
   ]
  },
  {
   "cell_type": "code",
   "execution_count": null,
   "metadata": {},
   "outputs": [],
   "source": []
  }
 ],
 "metadata": {
  "kernelspec": {
   "display_name": "Python 3",
   "language": "python",
   "name": "python3"
  },
  "language_info": {
   "codemirror_mode": {
    "name": "ipython",
    "version": 3
   },
   "file_extension": ".py",
   "mimetype": "text/x-python",
   "name": "python",
   "nbconvert_exporter": "python",
   "pygments_lexer": "ipython3",
   "version": "3.7.3"
  }
 },
 "nbformat": 4,
 "nbformat_minor": 2
}
